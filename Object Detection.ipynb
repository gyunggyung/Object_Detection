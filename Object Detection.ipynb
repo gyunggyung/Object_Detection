{
 "cells": [
  {
   "cell_type": "code",
   "execution_count": 3,
   "id": "ceedbc19",
   "metadata": {},
   "outputs": [],
   "source": [
    "from PIL import Image\n",
    "Image.open('PennFudanPed/PNGImages/FudanPed00001.png')\n",
    "mask = Image.open('PennFudanPed/PedMasks/FudanPed00001_mask.png')\n",
    "# each mask instance has a different color, from zero to N, where\n",
    "# N is the number of instances. In order to make visualization easier,\n",
    "# let's adda color palette to the mask.\n",
    "mask.putpalette([\n",
    "    0, 0, 0, # black background\n",
    "    255, 0, 0, # index 1 is red\n",
    "    255, 255, 0, # index 2 is yellow\n",
    "    255, 153, 0, # index 3 is orange\n",
    "])\n"
   ]
  },
  {
   "cell_type": "code",
   "execution_count": 17,
   "id": "24714c89",
   "metadata": {},
   "outputs": [],
   "source": [
    "import os\n",
    "import numpy as np\n",
    "import torch\n",
    "import torch.utils.data\n",
    "from PIL import Image\n",
    " \n",
    " \n",
    "class PennFudanDataset(torch.utils.data.Dataset):\n",
    "    def __init__(self, root, transforms=None):\n",
    "        self.root = root\n",
    "        self.transforms = transforms\n",
    "        # load all image files, sorting them to\n",
    "        # ensure that they are aligned\n",
    "        self.imgs = list(sorted(os.listdir(os.path.join(root, \"PNGImages\"))))\n",
    "        self.masks = list(sorted(os.listdir(os.path.join(root, \"PedMasks\"))))\n",
    " \n",
    "    def __getitem__(self, idx):\n",
    "        # load images ad masks\n",
    "        img_path = os.path.join(self.root, \"PNGImages\", self.imgs[idx])\n",
    "        mask_path = os.path.join(self.root, \"PedMasks\", self.masks[idx])\n",
    "        img = Image.open(img_path).convert(\"RGB\")\n",
    "        # note that we haven't converted the mask to RGB,\n",
    "        # because each color corresponds to a different instance\n",
    "        # with 0 being background\n",
    "        mask = Image.open(mask_path)\n",
    " \n",
    "        mask = np.array(mask)\n",
    "        # instances are encoded as different colors\n",
    "        obj_ids = np.unique(mask)\n",
    "        # first id is the background, so remove it\n",
    "        obj_ids = obj_ids[1:]\n",
    " \n",
    "        # split the color-encoded mask into a set\n",
    "        # of binary masks\n",
    "        masks = mask == obj_ids[:, None, None]\n",
    " \n",
    "        # get bounding box coordinates for each mask\n",
    "        num_objs = len(obj_ids)\n",
    "        boxes = []\n",
    "        for i in range(num_objs):\n",
    "            pos = np.where(masks[i])\n",
    "            xmin = np.min(pos[1])\n",
    "            xmax = np.max(pos[1])\n",
    "            ymin = np.min(pos[0])\n",
    "            ymax = np.max(pos[0])\n",
    "            boxes.append([xmin, ymin, xmax, ymax])\n",
    " \n",
    "        boxes = torch.as_tensor(boxes)\n",
    "        # there is only one class\n",
    "        labels = torch.ones((num_objs,), dtype=torch.int64)\n",
    "        masks = torch.as_tensor(masks, dtype=torch.uint8)\n",
    " \n",
    "        image_id = torch.tensor([idx])\n",
    "        area = (boxes[:, 3] - boxes[:, 1]) * (boxes[:, 2] - boxes[:, 0])\n",
    "        # suppose all instances are not crowd\n",
    "        iscrowd = torch.zeros((num_objs,), dtype=torch.int64)\n",
    " \n",
    "        target = {}\n",
    "        target[\"boxes\"] = boxes\n",
    "        target[\"labels\"] = labels\n",
    "        target[\"masks\"] = masks\n",
    "        target[\"image_id\"] = image_id\n",
    "        target[\"area\"] = area\n",
    "        target[\"iscrowd\"] = iscrowd\n",
    " \n",
    "        if self.transforms is not None:\n",
    "            img, target = self.transforms(img, target)\n",
    " \n",
    "        return img, target\n",
    " \n",
    "    def __len__(self):\n",
    "        return len(self.imgs)\n"
   ]
  },
  {
   "cell_type": "code",
   "execution_count": 18,
   "id": "7ba14c99",
   "metadata": {},
   "outputs": [],
   "source": [
    "import torchvision\n",
    "from torchvision.models.detection.faster_rcnn import FastRCNNPredictor\n",
    "from torchvision.models.detection.mask_rcnn import MaskRCNNPredictor\n",
    " \n",
    " \n",
    "def get_instance_segmentation_model(num_classes):\n",
    "    # load an instance segmentation model pre-trained on COCO\n",
    "    model = torchvision.models.detection.maskrcnn_resnet50_fpn(pretrained=True)\n",
    " \n",
    "    # get the number of input features for the classifier\n",
    "    in_features = model.roi_heads.box_predictor.cls_score.in_features\n",
    "    # replace the pre-trained head with a new one\n",
    "    model.roi_heads.box_predictor = FastRCNNPredictor(in_features, num_classes)\n",
    " \n",
    "    # now get the number of input features for the mask classifier\n",
    "    in_features_mask = model.roi_heads.mask_predictor.conv5_mask.in_channels\n",
    "    hidden_layer = 256\n",
    "    # and replace the mask predictor with a new one\n",
    "    model.roi_heads.mask_predictor = MaskRCNNPredictor(in_features_mask,\n",
    "                                                       hidden_layer,\n",
    "                                                       num_classes)\n",
    " \n",
    "    return model\n"
   ]
  },
  {
   "cell_type": "code",
   "execution_count": 19,
   "id": "2409c2d9",
   "metadata": {},
   "outputs": [],
   "source": [
    "from engine import train_one_epoch, evaluate\n",
    "import utils\n",
    "import transforms as T\n",
    " \n",
    " \n",
    "def get_transform(train):\n",
    "    transforms = []\n",
    "    # converts the image, a PIL image, into a PyTorch Tensor\n",
    "    transforms.append(T.ToTensor())\n",
    "    if train:\n",
    "        # during training, randomly flip the training images\n",
    "        # and ground-truth for data augmentation\n",
    "        transforms.append(T.RandomHorizontalFlip(0.5))\n",
    "    return T.Compose(transforms)\n"
   ]
  },
  {
   "cell_type": "code",
   "execution_count": 20,
   "id": "d92975a8",
   "metadata": {},
   "outputs": [],
   "source": [
    "# use our dataset and defined transformations\n",
    "dataset = PennFudanDataset('PennFudanPed', get_transform(train=True))\n",
    "dataset_test = PennFudanDataset('PennFudanPed', get_transform(train=False))\n",
    " \n",
    "# split the dataset in train and test set\n",
    "torch.manual_seed(1)\n",
    "indices = torch.randperm(len(dataset)).tolist()\n",
    "dataset = torch.utils.data.Subset(dataset, indices[:-50])\n",
    "dataset_test = torch.utils.data.Subset(dataset_test, indices[-50:])\n",
    " \n",
    "# define training and validation data loaders\n",
    "data_loader = torch.utils.data.DataLoader(\n",
    "    dataset, batch_size=2, shuffle=True, num_workers=0,\n",
    "    collate_fn=utils.collate_fn)\n",
    " \n",
    "data_loader_test = torch.utils.data.DataLoader(\n",
    "    dataset_test, batch_size=1, shuffle=False, num_workers=0,\n",
    "    collate_fn=utils.collate_fn)\n"
   ]
  },
  {
   "cell_type": "code",
   "execution_count": 21,
   "id": "5537b23b",
   "metadata": {},
   "outputs": [],
   "source": [
    "device = torch.device('cuda') if torch.cuda.is_available() else torch.device('cpu')\n",
    " \n",
    "# our dataset has two classes only - background and person\n",
    "num_classes = 2\n",
    " \n",
    "# get the model using our helper function\n",
    "model = get_instance_segmentation_model(num_classes)\n",
    "# move model to the right device\n",
    "model.to(device)\n",
    " \n",
    "# construct an optimizer\n",
    "params = [p for p in model.parameters() if p.requires_grad]\n",
    "optimizer = torch.optim.SGD(params, lr=0.005,\n",
    "                            momentum=0.9, weight_decay=0.0005)\n",
    " \n",
    "# and a learning rate scheduler which decreases the learning rate by\n",
    "# 10x every 3 epochs\n",
    "lr_scheduler = torch.optim.lr_scheduler.StepLR(optimizer,\n",
    "                                               step_size=3,\n",
    "                                               gamma=0.1)\n"
   ]
  },
  {
   "cell_type": "code",
   "execution_count": 24,
   "id": "722ce5ba",
   "metadata": {
    "scrolled": false
   },
   "outputs": [
    {
     "name": "stdout",
     "output_type": "stream",
     "text": [
      "Epoch: [0]  [ 0/60]  eta: 0:00:33  lr: 0.000090  loss: 0.2772 (0.2772)  loss_classifier: 0.0369 (0.0369)  loss_box_reg: 0.0812 (0.0812)  loss_mask: 0.1507 (0.1507)  loss_objectness: 0.0004 (0.0004)  loss_rpn_box_reg: 0.0080 (0.0080)  time: 0.5505  data: 0.0199  max mem: 3698\n",
      "Epoch: [0]  [10/60]  eta: 0:00:27  lr: 0.000936  loss: 0.2772 (0.2880)  loss_classifier: 0.0380 (0.0398)  loss_box_reg: 0.1034 (0.1015)  loss_mask: 0.1358 (0.1362)  loss_objectness: 0.0006 (0.0028)  loss_rpn_box_reg: 0.0079 (0.0077)  time: 0.5590  data: 0.0256  max mem: 3698\n",
      "Epoch: [0]  [20/60]  eta: 0:00:21  lr: 0.001783  loss: 0.2573 (0.2630)  loss_classifier: 0.0291 (0.0332)  loss_box_reg: 0.0743 (0.0856)  loss_mask: 0.1355 (0.1361)  loss_objectness: 0.0006 (0.0023)  loss_rpn_box_reg: 0.0056 (0.0059)  time: 0.5409  data: 0.0260  max mem: 3698\n",
      "Epoch: [0]  [30/60]  eta: 0:00:16  lr: 0.002629  loss: 0.2573 (0.2715)  loss_classifier: 0.0290 (0.0368)  loss_box_reg: 0.0766 (0.0907)  loss_mask: 0.1219 (0.1358)  loss_objectness: 0.0011 (0.0026)  loss_rpn_box_reg: 0.0033 (0.0056)  time: 0.5451  data: 0.0284  max mem: 3698\n",
      "Epoch: [0]  [40/60]  eta: 0:00:11  lr: 0.003476  loss: 0.2833 (0.2696)  loss_classifier: 0.0370 (0.0362)  loss_box_reg: 0.1003 (0.0904)  loss_mask: 0.1344 (0.1358)  loss_objectness: 0.0011 (0.0022)  loss_rpn_box_reg: 0.0031 (0.0050)  time: 0.5806  data: 0.0310  max mem: 3698\n",
      "Epoch: [0]  [50/60]  eta: 0:00:05  lr: 0.004323  loss: 0.2802 (0.2740)  loss_classifier: 0.0359 (0.0385)  loss_box_reg: 0.0974 (0.0920)  loss_mask: 0.1349 (0.1361)  loss_objectness: 0.0006 (0.0021)  loss_rpn_box_reg: 0.0038 (0.0053)  time: 0.5969  data: 0.0295  max mem: 3698\n",
      "Epoch: [0]  [59/60]  eta: 0:00:00  lr: 0.005000  loss: 0.2802 (0.2795)  loss_classifier: 0.0360 (0.0394)  loss_box_reg: 0.0969 (0.0943)  loss_mask: 0.1264 (0.1386)  loss_objectness: 0.0006 (0.0019)  loss_rpn_box_reg: 0.0039 (0.0052)  time: 0.6076  data: 0.0310  max mem: 3698\n",
      "Epoch: [0] Total time: 0:00:34 (0.5755 s / it)\n",
      "Epoch: [1]  [ 0/60]  eta: 0:00:32  lr: 0.005000  loss: 0.1834 (0.1834)  loss_classifier: 0.0295 (0.0295)  loss_box_reg: 0.0541 (0.0541)  loss_mask: 0.0969 (0.0969)  loss_objectness: 0.0003 (0.0003)  loss_rpn_box_reg: 0.0025 (0.0025)  time: 0.5496  data: 0.0269  max mem: 3698\n",
      "Epoch: [1]  [10/60]  eta: 0:00:28  lr: 0.005000  loss: 0.1950 (0.2383)  loss_classifier: 0.0295 (0.0333)  loss_box_reg: 0.0496 (0.0686)  loss_mask: 0.1164 (0.1317)  loss_objectness: 0.0004 (0.0011)  loss_rpn_box_reg: 0.0028 (0.0036)  time: 0.5772  data: 0.0291  max mem: 3698\n",
      "Epoch: [1]  [20/60]  eta: 0:00:22  lr: 0.005000  loss: 0.2284 (0.2353)  loss_classifier: 0.0388 (0.0358)  loss_box_reg: 0.0496 (0.0654)  loss_mask: 0.1224 (0.1292)  loss_objectness: 0.0004 (0.0012)  loss_rpn_box_reg: 0.0028 (0.0036)  time: 0.5762  data: 0.0286  max mem: 3698\n",
      "Epoch: [1]  [30/60]  eta: 0:00:17  lr: 0.005000  loss: 0.2293 (0.2395)  loss_classifier: 0.0332 (0.0339)  loss_box_reg: 0.0557 (0.0695)  loss_mask: 0.1224 (0.1306)  loss_objectness: 0.0007 (0.0011)  loss_rpn_box_reg: 0.0039 (0.0044)  time: 0.5778  data: 0.0288  max mem: 3698\n",
      "Epoch: [1]  [40/60]  eta: 0:00:11  lr: 0.005000  loss: 0.2164 (0.2411)  loss_classifier: 0.0242 (0.0339)  loss_box_reg: 0.0557 (0.0714)  loss_mask: 0.1165 (0.1303)  loss_objectness: 0.0004 (0.0012)  loss_rpn_box_reg: 0.0042 (0.0043)  time: 0.6062  data: 0.0302  max mem: 3698\n",
      "Epoch: [1]  [50/60]  eta: 0:00:05  lr: 0.005000  loss: 0.2284 (0.2393)  loss_classifier: 0.0308 (0.0333)  loss_box_reg: 0.0609 (0.0703)  loss_mask: 0.1220 (0.1300)  loss_objectness: 0.0006 (0.0015)  loss_rpn_box_reg: 0.0034 (0.0042)  time: 0.6008  data: 0.0300  max mem: 3698\n",
      "Epoch: [1]  [59/60]  eta: 0:00:00  lr: 0.005000  loss: 0.2214 (0.2418)  loss_classifier: 0.0287 (0.0335)  loss_box_reg: 0.0590 (0.0714)  loss_mask: 0.1220 (0.1310)  loss_objectness: 0.0006 (0.0015)  loss_rpn_box_reg: 0.0029 (0.0043)  time: 0.5698  data: 0.0282  max mem: 3698\n",
      "Epoch: [1] Total time: 0:00:35 (0.5848 s / it)\n",
      "Epoch: [2]  [ 0/60]  eta: 0:00:29  lr: 0.000500  loss: 0.2817 (0.2817)  loss_classifier: 0.0310 (0.0310)  loss_box_reg: 0.0481 (0.0481)  loss_mask: 0.2006 (0.2006)  loss_objectness: 0.0007 (0.0007)  loss_rpn_box_reg: 0.0013 (0.0013)  time: 0.4892  data: 0.0269  max mem: 3698\n",
      "Epoch: [2]  [10/60]  eta: 0:00:29  lr: 0.000500  loss: 0.2334 (0.2290)  loss_classifier: 0.0335 (0.0376)  loss_box_reg: 0.0494 (0.0534)  loss_mask: 0.1181 (0.1313)  loss_objectness: 0.0012 (0.0017)  loss_rpn_box_reg: 0.0045 (0.0050)  time: 0.5829  data: 0.0284  max mem: 3698\n",
      "Epoch: [2]  [20/60]  eta: 0:00:23  lr: 0.000500  loss: 0.1907 (0.2018)  loss_classifier: 0.0335 (0.0325)  loss_box_reg: 0.0402 (0.0454)  loss_mask: 0.1101 (0.1189)  loss_objectness: 0.0006 (0.0013)  loss_rpn_box_reg: 0.0024 (0.0037)  time: 0.5843  data: 0.0295  max mem: 3698\n",
      "Epoch: [2]  [30/60]  eta: 0:00:17  lr: 0.000500  loss: 0.1900 (0.2005)  loss_classifier: 0.0313 (0.0316)  loss_box_reg: 0.0336 (0.0457)  loss_mask: 0.1101 (0.1183)  loss_objectness: 0.0005 (0.0012)  loss_rpn_box_reg: 0.0021 (0.0037)  time: 0.5848  data: 0.0294  max mem: 3698\n",
      "Epoch: [2]  [40/60]  eta: 0:00:11  lr: 0.000500  loss: 0.1983 (0.2026)  loss_classifier: 0.0258 (0.0305)  loss_box_reg: 0.0477 (0.0465)  loss_mask: 0.1210 (0.1210)  loss_objectness: 0.0005 (0.0011)  loss_rpn_box_reg: 0.0027 (0.0035)  time: 0.5878  data: 0.0299  max mem: 3698\n",
      "Epoch: [2]  [50/60]  eta: 0:00:05  lr: 0.000500  loss: 0.1795 (0.2014)  loss_classifier: 0.0292 (0.0302)  loss_box_reg: 0.0478 (0.0466)  loss_mask: 0.1081 (0.1203)  loss_objectness: 0.0004 (0.0010)  loss_rpn_box_reg: 0.0021 (0.0032)  time: 0.5799  data: 0.0305  max mem: 3698\n",
      "Epoch: [2]  [59/60]  eta: 0:00:00  lr: 0.000500  loss: 0.1828 (0.2029)  loss_classifier: 0.0275 (0.0303)  loss_box_reg: 0.0327 (0.0468)  loss_mask: 0.1074 (0.1216)  loss_objectness: 0.0004 (0.0010)  loss_rpn_box_reg: 0.0019 (0.0032)  time: 0.5945  data: 0.0300  max mem: 3698\n",
      "Epoch: [2] Total time: 0:00:35 (0.5883 s / it)\n",
      "Epoch: [3]  [ 0/60]  eta: 0:00:34  lr: 0.000500  loss: 0.1641 (0.1641)  loss_classifier: 0.0316 (0.0316)  loss_box_reg: 0.0286 (0.0286)  loss_mask: 0.1003 (0.1003)  loss_objectness: 0.0013 (0.0013)  loss_rpn_box_reg: 0.0022 (0.0022)  time: 0.5682  data: 0.0479  max mem: 3698\n",
      "Epoch: [3]  [10/60]  eta: 0:00:28  lr: 0.000500  loss: 0.1873 (0.1849)  loss_classifier: 0.0316 (0.0299)  loss_box_reg: 0.0286 (0.0342)  loss_mask: 0.1092 (0.1177)  loss_objectness: 0.0006 (0.0007)  loss_rpn_box_reg: 0.0022 (0.0024)  time: 0.5677  data: 0.0285  max mem: 3698\n",
      "Epoch: [3]  [20/60]  eta: 0:00:22  lr: 0.000500  loss: 0.1735 (0.1848)  loss_classifier: 0.0265 (0.0272)  loss_box_reg: 0.0276 (0.0368)  loss_mask: 0.1092 (0.1171)  loss_objectness: 0.0006 (0.0010)  loss_rpn_box_reg: 0.0024 (0.0028)  time: 0.5703  data: 0.0267  max mem: 3698\n",
      "Epoch: [3]  [30/60]  eta: 0:00:17  lr: 0.000500  loss: 0.1996 (0.1905)  loss_classifier: 0.0265 (0.0283)  loss_box_reg: 0.0458 (0.0394)  loss_mask: 0.1160 (0.1191)  loss_objectness: 0.0006 (0.0010)  loss_rpn_box_reg: 0.0026 (0.0027)  time: 0.5795  data: 0.0280  max mem: 3698\n",
      "Epoch: [3]  [40/60]  eta: 0:00:11  lr: 0.000500  loss: 0.1929 (0.1880)  loss_classifier: 0.0281 (0.0281)  loss_box_reg: 0.0439 (0.0390)  loss_mask: 0.1115 (0.1173)  loss_objectness: 0.0005 (0.0010)  loss_rpn_box_reg: 0.0023 (0.0026)  time: 0.6037  data: 0.0303  max mem: 3698\n",
      "Epoch: [3]  [50/60]  eta: 0:00:05  lr: 0.000500  loss: 0.1917 (0.1964)  loss_classifier: 0.0328 (0.0292)  loss_box_reg: 0.0423 (0.0416)  loss_mask: 0.1247 (0.1217)  loss_objectness: 0.0005 (0.0011)  loss_rpn_box_reg: 0.0025 (0.0028)  time: 0.6079  data: 0.0317  max mem: 3698\n",
      "Epoch: [3]  [59/60]  eta: 0:00:00  lr: 0.000500  loss: 0.1958 (0.1940)  loss_classifier: 0.0259 (0.0290)  loss_box_reg: 0.0423 (0.0415)  loss_mask: 0.1268 (0.1198)  loss_objectness: 0.0002 (0.0009)  loss_rpn_box_reg: 0.0023 (0.0028)  time: 0.5810  data: 0.0318  max mem: 3698\n",
      "Epoch: [3] Total time: 0:00:34 (0.5832 s / it)\n",
      "Epoch: [4]  [ 0/60]  eta: 0:00:39  lr: 0.000500  loss: 0.1511 (0.1511)  loss_classifier: 0.0217 (0.0217)  loss_box_reg: 0.0273 (0.0273)  loss_mask: 0.0960 (0.0960)  loss_objectness: 0.0005 (0.0005)  loss_rpn_box_reg: 0.0056 (0.0056)  time: 0.6543  data: 0.0265  max mem: 3698\n",
      "Epoch: [4]  [10/60]  eta: 0:00:29  lr: 0.000500  loss: 0.1617 (0.1928)  loss_classifier: 0.0217 (0.0305)  loss_box_reg: 0.0422 (0.0407)  loss_mask: 0.1092 (0.1182)  loss_objectness: 0.0005 (0.0006)  loss_rpn_box_reg: 0.0030 (0.0028)  time: 0.5910  data: 0.0296  max mem: 3698\n"
     ]
    },
    {
     "name": "stdout",
     "output_type": "stream",
     "text": [
      "Epoch: [4]  [20/60]  eta: 0:00:23  lr: 0.000500  loss: 0.1736 (0.1875)  loss_classifier: 0.0214 (0.0275)  loss_box_reg: 0.0265 (0.0365)  loss_mask: 0.1092 (0.1198)  loss_objectness: 0.0004 (0.0010)  loss_rpn_box_reg: 0.0016 (0.0027)  time: 0.5779  data: 0.0283  max mem: 3698\n",
      "Epoch: [4]  [30/60]  eta: 0:00:17  lr: 0.000500  loss: 0.1680 (0.1864)  loss_classifier: 0.0230 (0.0279)  loss_box_reg: 0.0323 (0.0373)  loss_mask: 0.1066 (0.1173)  loss_objectness: 0.0004 (0.0012)  loss_rpn_box_reg: 0.0023 (0.0027)  time: 0.5803  data: 0.0272  max mem: 3698\n",
      "Epoch: [4]  [40/60]  eta: 0:00:11  lr: 0.000500  loss: 0.1708 (0.1875)  loss_classifier: 0.0257 (0.0279)  loss_box_reg: 0.0342 (0.0388)  loss_mask: 0.1069 (0.1167)  loss_objectness: 0.0003 (0.0013)  loss_rpn_box_reg: 0.0023 (0.0028)  time: 0.5989  data: 0.0304  max mem: 3698\n",
      "Epoch: [4]  [50/60]  eta: 0:00:05  lr: 0.000500  loss: 0.1797 (0.1912)  loss_classifier: 0.0273 (0.0284)  loss_box_reg: 0.0386 (0.0402)  loss_mask: 0.1113 (0.1184)  loss_objectness: 0.0003 (0.0012)  loss_rpn_box_reg: 0.0021 (0.0029)  time: 0.6032  data: 0.0337  max mem: 3698\n",
      "Epoch: [4]  [59/60]  eta: 0:00:00  lr: 0.000500  loss: 0.1905 (0.1891)  loss_classifier: 0.0258 (0.0276)  loss_box_reg: 0.0386 (0.0396)  loss_mask: 0.1135 (0.1179)  loss_objectness: 0.0004 (0.0012)  loss_rpn_box_reg: 0.0024 (0.0028)  time: 0.5896  data: 0.0305  max mem: 3698\n",
      "Epoch: [4] Total time: 0:00:35 (0.5887 s / it)\n",
      "Epoch: [5]  [ 0/60]  eta: 0:00:35  lr: 0.000050  loss: 0.2320 (0.2320)  loss_classifier: 0.0472 (0.0472)  loss_box_reg: 0.0592 (0.0592)  loss_mask: 0.1236 (0.1236)  loss_objectness: 0.0009 (0.0009)  loss_rpn_box_reg: 0.0011 (0.0011)  time: 0.5855  data: 0.0379  max mem: 3698\n",
      "Epoch: [5]  [10/60]  eta: 0:00:28  lr: 0.000050  loss: 0.1807 (0.1891)  loss_classifier: 0.0298 (0.0315)  loss_box_reg: 0.0410 (0.0419)  loss_mask: 0.1063 (0.1121)  loss_objectness: 0.0006 (0.0010)  loss_rpn_box_reg: 0.0027 (0.0025)  time: 0.5707  data: 0.0278  max mem: 3698\n",
      "Epoch: [5]  [20/60]  eta: 0:00:23  lr: 0.000050  loss: 0.1706 (0.1933)  loss_classifier: 0.0263 (0.0321)  loss_box_reg: 0.0375 (0.0446)  loss_mask: 0.1053 (0.1132)  loss_objectness: 0.0005 (0.0009)  loss_rpn_box_reg: 0.0025 (0.0025)  time: 0.5851  data: 0.0301  max mem: 3698\n",
      "Epoch: [5]  [30/60]  eta: 0:00:17  lr: 0.000050  loss: 0.1633 (0.1861)  loss_classifier: 0.0240 (0.0287)  loss_box_reg: 0.0264 (0.0413)  loss_mask: 0.1053 (0.1128)  loss_objectness: 0.0005 (0.0009)  loss_rpn_box_reg: 0.0017 (0.0025)  time: 0.5711  data: 0.0291  max mem: 3698\n",
      "Epoch: [5]  [40/60]  eta: 0:00:11  lr: 0.000050  loss: 0.1633 (0.1862)  loss_classifier: 0.0218 (0.0282)  loss_box_reg: 0.0263 (0.0404)  loss_mask: 0.1067 (0.1140)  loss_objectness: 0.0005 (0.0008)  loss_rpn_box_reg: 0.0027 (0.0027)  time: 0.5729  data: 0.0257  max mem: 3698\n",
      "Epoch: [5]  [50/60]  eta: 0:00:05  lr: 0.000050  loss: 0.1678 (0.1823)  loss_classifier: 0.0251 (0.0275)  loss_box_reg: 0.0320 (0.0390)  loss_mask: 0.1075 (0.1125)  loss_objectness: 0.0003 (0.0007)  loss_rpn_box_reg: 0.0019 (0.0025)  time: 0.6040  data: 0.0270  max mem: 3698\n",
      "Epoch: [5]  [59/60]  eta: 0:00:00  lr: 0.000050  loss: 0.1678 (0.1847)  loss_classifier: 0.0251 (0.0279)  loss_box_reg: 0.0270 (0.0386)  loss_mask: 0.1079 (0.1146)  loss_objectness: 0.0003 (0.0010)  loss_rpn_box_reg: 0.0013 (0.0026)  time: 0.5948  data: 0.0285  max mem: 3698\n",
      "Epoch: [5] Total time: 0:00:35 (0.5837 s / it)\n",
      "Epoch: [6]  [ 0/60]  eta: 0:00:33  lr: 0.000050  loss: 0.1380 (0.1380)  loss_classifier: 0.0155 (0.0155)  loss_box_reg: 0.0256 (0.0256)  loss_mask: 0.0947 (0.0947)  loss_objectness: 0.0001 (0.0001)  loss_rpn_box_reg: 0.0021 (0.0021)  time: 0.5502  data: 0.0249  max mem: 3698\n",
      "Epoch: [6]  [10/60]  eta: 0:00:28  lr: 0.000050  loss: 0.1796 (0.1806)  loss_classifier: 0.0314 (0.0275)  loss_box_reg: 0.0379 (0.0381)  loss_mask: 0.1104 (0.1109)  loss_objectness: 0.0003 (0.0014)  loss_rpn_box_reg: 0.0031 (0.0027)  time: 0.5659  data: 0.0254  max mem: 3698\n",
      "Epoch: [6]  [20/60]  eta: 0:00:23  lr: 0.000050  loss: 0.1796 (0.1884)  loss_classifier: 0.0243 (0.0278)  loss_box_reg: 0.0350 (0.0415)  loss_mask: 0.1118 (0.1150)  loss_objectness: 0.0007 (0.0012)  loss_rpn_box_reg: 0.0031 (0.0028)  time: 0.5830  data: 0.0278  max mem: 3698\n",
      "Epoch: [6]  [30/60]  eta: 0:00:17  lr: 0.000050  loss: 0.1688 (0.1873)  loss_classifier: 0.0254 (0.0278)  loss_box_reg: 0.0303 (0.0407)  loss_mask: 0.1119 (0.1151)  loss_objectness: 0.0004 (0.0009)  loss_rpn_box_reg: 0.0025 (0.0028)  time: 0.6027  data: 0.0288  max mem: 3698\n",
      "Epoch: [6]  [40/60]  eta: 0:00:11  lr: 0.000050  loss: 0.1886 (0.1880)  loss_classifier: 0.0275 (0.0273)  loss_box_reg: 0.0390 (0.0403)  loss_mask: 0.1130 (0.1166)  loss_objectness: 0.0004 (0.0009)  loss_rpn_box_reg: 0.0026 (0.0029)  time: 0.6070  data: 0.0284  max mem: 3698\n",
      "Epoch: [6]  [50/60]  eta: 0:00:05  lr: 0.000050  loss: 0.1514 (0.1835)  loss_classifier: 0.0212 (0.0263)  loss_box_reg: 0.0285 (0.0383)  loss_mask: 0.1095 (0.1152)  loss_objectness: 0.0002 (0.0010)  loss_rpn_box_reg: 0.0014 (0.0026)  time: 0.5737  data: 0.0303  max mem: 3698\n",
      "Epoch: [6]  [59/60]  eta: 0:00:00  lr: 0.000050  loss: 0.1583 (0.1845)  loss_classifier: 0.0216 (0.0270)  loss_box_reg: 0.0265 (0.0385)  loss_mask: 0.1095 (0.1154)  loss_objectness: 0.0002 (0.0010)  loss_rpn_box_reg: 0.0011 (0.0026)  time: 0.5644  data: 0.0297  max mem: 3698\n",
      "Epoch: [6] Total time: 0:00:35 (0.5850 s / it)\n",
      "Epoch: [7]  [ 0/60]  eta: 0:00:31  lr: 0.000050  loss: 0.1666 (0.1666)  loss_classifier: 0.0253 (0.0253)  loss_box_reg: 0.0221 (0.0221)  loss_mask: 0.1168 (0.1168)  loss_objectness: 0.0007 (0.0007)  loss_rpn_box_reg: 0.0018 (0.0018)  time: 0.5249  data: 0.0180  max mem: 3698\n",
      "Epoch: [7]  [10/60]  eta: 0:00:27  lr: 0.000050  loss: 0.1638 (0.1618)  loss_classifier: 0.0253 (0.0254)  loss_box_reg: 0.0221 (0.0263)  loss_mask: 0.1082 (0.1072)  loss_objectness: 0.0004 (0.0010)  loss_rpn_box_reg: 0.0017 (0.0019)  time: 0.5536  data: 0.0243  max mem: 3698\n",
      "Epoch: [7]  [20/60]  eta: 0:00:23  lr: 0.000050  loss: 0.1638 (0.1776)  loss_classifier: 0.0253 (0.0265)  loss_box_reg: 0.0303 (0.0351)  loss_mask: 0.1099 (0.1125)  loss_objectness: 0.0004 (0.0010)  loss_rpn_box_reg: 0.0020 (0.0026)  time: 0.5853  data: 0.0269  max mem: 3698\n",
      "Epoch: [7]  [30/60]  eta: 0:00:17  lr: 0.000050  loss: 0.1876 (0.1809)  loss_classifier: 0.0236 (0.0256)  loss_box_reg: 0.0444 (0.0367)  loss_mask: 0.1129 (0.1152)  loss_objectness: 0.0004 (0.0009)  loss_rpn_box_reg: 0.0028 (0.0025)  time: 0.6045  data: 0.0304  max mem: 3698\n",
      "Epoch: [7]  [40/60]  eta: 0:00:11  lr: 0.000050  loss: 0.1911 (0.1846)  loss_classifier: 0.0239 (0.0266)  loss_box_reg: 0.0419 (0.0382)  loss_mask: 0.1129 (0.1158)  loss_objectness: 0.0004 (0.0012)  loss_rpn_box_reg: 0.0025 (0.0027)  time: 0.6082  data: 0.0512  max mem: 3698\n",
      "Epoch: [7]  [50/60]  eta: 0:00:05  lr: 0.000050  loss: 0.2034 (0.1870)  loss_classifier: 0.0286 (0.0270)  loss_box_reg: 0.0371 (0.0390)  loss_mask: 0.1133 (0.1171)  loss_objectness: 0.0005 (0.0012)  loss_rpn_box_reg: 0.0027 (0.0027)  time: 0.6046  data: 0.0504  max mem: 3698\n",
      "Epoch: [7]  [59/60]  eta: 0:00:00  lr: 0.000050  loss: 0.1543 (0.1863)  loss_classifier: 0.0263 (0.0271)  loss_box_reg: 0.0298 (0.0390)  loss_mask: 0.1079 (0.1162)  loss_objectness: 0.0003 (0.0011)  loss_rpn_box_reg: 0.0022 (0.0027)  time: 0.5961  data: 0.0295  max mem: 3698\n",
      "Epoch: [7] Total time: 0:00:35 (0.5961 s / it)\n",
      "Epoch: [8]  [ 0/60]  eta: 0:00:30  lr: 0.000005  loss: 0.2458 (0.2458)  loss_classifier: 0.0397 (0.0397)  loss_box_reg: 0.0390 (0.0390)  loss_mask: 0.1650 (0.1650)  loss_objectness: 0.0004 (0.0004)  loss_rpn_box_reg: 0.0017 (0.0017)  time: 0.5025  data: 0.0259  max mem: 3698\n",
      "Epoch: [8]  [10/60]  eta: 0:00:28  lr: 0.000005  loss: 0.1810 (0.1830)  loss_classifier: 0.0217 (0.0259)  loss_box_reg: 0.0390 (0.0386)  loss_mask: 0.1109 (0.1157)  loss_objectness: 0.0002 (0.0003)  loss_rpn_box_reg: 0.0017 (0.0025)  time: 0.5686  data: 0.0263  max mem: 3698\n",
      "Epoch: [8]  [20/60]  eta: 0:00:23  lr: 0.000005  loss: 0.1578 (0.1834)  loss_classifier: 0.0213 (0.0259)  loss_box_reg: 0.0329 (0.0361)  loss_mask: 0.1104 (0.1179)  loss_objectness: 0.0003 (0.0012)  loss_rpn_box_reg: 0.0016 (0.0023)  time: 0.5896  data: 0.0283  max mem: 3698\n",
      "Epoch: [8]  [30/60]  eta: 0:00:17  lr: 0.000005  loss: 0.1719 (0.1824)  loss_classifier: 0.0219 (0.0264)  loss_box_reg: 0.0272 (0.0352)  loss_mask: 0.1035 (0.1171)  loss_objectness: 0.0004 (0.0015)  loss_rpn_box_reg: 0.0016 (0.0022)  time: 0.5946  data: 0.0291  max mem: 3698\n"
     ]
    },
    {
     "name": "stdout",
     "output_type": "stream",
     "text": [
      "Epoch: [8]  [40/60]  eta: 0:00:11  lr: 0.000005  loss: 0.1719 (0.1853)  loss_classifier: 0.0250 (0.0262)  loss_box_reg: 0.0272 (0.0363)  loss_mask: 0.1139 (0.1189)  loss_objectness: 0.0004 (0.0012)  loss_rpn_box_reg: 0.0018 (0.0026)  time: 0.5974  data: 0.0278  max mem: 3698\n",
      "Epoch: [8]  [50/60]  eta: 0:00:05  lr: 0.000005  loss: 0.1616 (0.1848)  loss_classifier: 0.0252 (0.0266)  loss_box_reg: 0.0294 (0.0366)  loss_mask: 0.1097 (0.1177)  loss_objectness: 0.0003 (0.0012)  loss_rpn_box_reg: 0.0023 (0.0026)  time: 0.5948  data: 0.0270  max mem: 3698\n",
      "Epoch: [8]  [59/60]  eta: 0:00:00  lr: 0.000005  loss: 0.1704 (0.1862)  loss_classifier: 0.0264 (0.0270)  loss_box_reg: 0.0345 (0.0383)  loss_mask: 0.1054 (0.1171)  loss_objectness: 0.0003 (0.0012)  loss_rpn_box_reg: 0.0020 (0.0026)  time: 0.5692  data: 0.0270  max mem: 3698\n",
      "Epoch: [8] Total time: 0:00:35 (0.5847 s / it)\n",
      "Epoch: [9]  [ 0/60]  eta: 0:00:29  lr: 0.000005  loss: 0.1688 (0.1688)  loss_classifier: 0.0202 (0.0202)  loss_box_reg: 0.0306 (0.0306)  loss_mask: 0.1147 (0.1147)  loss_objectness: 0.0005 (0.0005)  loss_rpn_box_reg: 0.0027 (0.0027)  time: 0.4890  data: 0.0220  max mem: 3698\n",
      "Epoch: [9]  [10/60]  eta: 0:00:29  lr: 0.000005  loss: 0.1572 (0.1848)  loss_classifier: 0.0202 (0.0248)  loss_box_reg: 0.0222 (0.0380)  loss_mask: 0.1134 (0.1186)  loss_objectness: 0.0004 (0.0004)  loss_rpn_box_reg: 0.0013 (0.0031)  time: 0.5807  data: 0.0290  max mem: 3698\n",
      "Epoch: [9]  [20/60]  eta: 0:00:23  lr: 0.000005  loss: 0.1714 (0.1909)  loss_classifier: 0.0249 (0.0273)  loss_box_reg: 0.0223 (0.0394)  loss_mask: 0.1120 (0.1205)  loss_objectness: 0.0003 (0.0008)  loss_rpn_box_reg: 0.0016 (0.0029)  time: 0.5934  data: 0.0303  max mem: 3698\n",
      "Epoch: [9]  [30/60]  eta: 0:00:17  lr: 0.000005  loss: 0.1734 (0.1947)  loss_classifier: 0.0292 (0.0284)  loss_box_reg: 0.0257 (0.0406)  loss_mask: 0.1120 (0.1217)  loss_objectness: 0.0003 (0.0011)  loss_rpn_box_reg: 0.0020 (0.0029)  time: 0.5833  data: 0.0329  max mem: 3698\n",
      "Epoch: [9]  [40/60]  eta: 0:00:12  lr: 0.000005  loss: 0.1617 (0.1891)  loss_classifier: 0.0224 (0.0276)  loss_box_reg: 0.0257 (0.0381)  loss_mask: 0.1102 (0.1198)  loss_objectness: 0.0003 (0.0009)  loss_rpn_box_reg: 0.0018 (0.0027)  time: 0.6249  data: 0.0423  max mem: 3863\n",
      "Epoch: [9]  [50/60]  eta: 0:00:06  lr: 0.000005  loss: 0.1525 (0.1848)  loss_classifier: 0.0219 (0.0271)  loss_box_reg: 0.0269 (0.0371)  loss_mask: 0.1035 (0.1170)  loss_objectness: 0.0005 (0.0009)  loss_rpn_box_reg: 0.0016 (0.0026)  time: 0.6360  data: 0.0448  max mem: 3863\n",
      "Epoch: [9]  [59/60]  eta: 0:00:00  lr: 0.000005  loss: 0.1523 (0.1839)  loss_classifier: 0.0240 (0.0273)  loss_box_reg: 0.0286 (0.0371)  loss_mask: 0.0984 (0.1161)  loss_objectness: 0.0004 (0.0008)  loss_rpn_box_reg: 0.0021 (0.0025)  time: 0.6229  data: 0.0359  max mem: 3863\n",
      "Epoch: [9] Total time: 0:00:36 (0.6078 s / it)\n"
     ]
    }
   ],
   "source": [
    "# let's train it for 10 epochs\n",
    "num_epochs = 10\n",
    " \n",
    "for epoch in range(num_epochs):\n",
    "    # train for one epoch, printing every 10 iterations\n",
    "    train_one_epoch(model, optimizer, data_loader, device, epoch, print_freq=10)\n",
    "    # update the learning rate\n",
    "    lr_scheduler.step()\n",
    "    # evaluate on the test dataset\n",
    "    #evaluate(model, data_loader_test, device=device)\n"
   ]
  },
  {
   "cell_type": "code",
   "execution_count": 26,
   "id": "9884cd01",
   "metadata": {},
   "outputs": [
    {
     "data": {
      "image/png": "[encoded data removed]",
      "text/plain": [
       "<PIL.Image.Image image mode=L size=292x349 at 0x1F1145C5EB0>"
      ]
     },
     "execution_count": 26,
     "metadata": {},
     "output_type": "execute_result"
    }
   ],
   "source": [
    "# pick one image from the test set\n",
    "img, _ = dataset_test[0]\n",
    "# put the model in evaluation mode\n",
    "model.eval()\n",
    "with torch.no_grad():\n",
    "    prediction = model([img.to(device)])\n",
    " \n",
    "Image.fromarray(img.mul(255).permute(1, 2, 0).byte().numpy())\n",
    "Image.fromarray(prediction[0]['masks'][0, 0].mul(255).byte().cpu().numpy())\n"
   ]
  },
  {
   "cell_type": "code",
   "execution_count": 25,
   "id": "8ba93a26",
   "metadata": {},
   "outputs": [
    {
     "data": {
      "image/png": "[encoded data removed]",
      "text/plain": [
       "<PIL.Image.Image image mode=L size=473x348 at 0x1F1161CA7F0>"
      ]
     },
     "execution_count": 25,
     "metadata": {},
     "output_type": "execute_result"
    }
   ],
   "source": [
    "# pick one image from the test set\n",
    "img, _ = dataset_test[2]\n",
    "# put the model in evaluation mode\n",
    "model.eval()\n",
    "with torch.no_grad():\n",
    "    prediction = model([img.to(device)])\n",
    " \n",
    "Image.fromarray(img.mul(255).permute(1, 2, 0).byte().numpy())\n",
    "Image.fromarray(prediction[0]['masks'][0, 0].mul(255).byte().cpu().numpy())\n"
   ]
  },
  {
   "cell_type": "code",
   "execution_count": 27,
   "id": "e88837d6",
   "metadata": {},
   "outputs": [
    {
     "data": {
      "image/png": "[encoded data removed]",
      "text/plain": [
       "<PIL.Image.Image image mode=L size=294x331 at 0x1F10769C280>"
      ]
     },
     "execution_count": 27,
     "metadata": {},
     "output_type": "execute_result"
    }
   ],
   "source": [
    "# pick one image from the test set\n",
    "img, _ = dataset_test[9]\n",
    "# put the model in evaluation mode\n",
    "model.eval()\n",
    "with torch.no_grad():\n",
    "    prediction = model([img.to(device)])\n",
    " \n",
    "Image.fromarray(img.mul(255).permute(1, 2, 0).byte().numpy())\n",
    "Image.fromarray(prediction[0]['masks'][0, 0].mul(255).byte().cpu().numpy())\n"
   ]
  },
  {
   "cell_type": "markdown",
   "id": "11581a87",
   "metadata": {},
   "source": [
    "메인!! \n",
    "\n",
    "https://wordbe.tistory.com/entry/Object-Detection-%EC%98%88%EC%A0%9C-%EC%84%A4%EB%AA%85-%EC%BD%94%EB%93%9C%ED%8F%AC%ED%95%A8-Pytorch\n",
    "\n",
    "이걸로 됐고 그냥 참고용\n",
    "https://pytorch.org/tutorials/intermediate/torchvision_tutorial.html\n"
   ]
  },
  {
   "cell_type": "markdown",
   "id": "d79729c6",
   "metadata": {},
   "source": []
  },
  {
   "cell_type": "code",
   "execution_count": null,
   "id": "96d78798",
   "metadata": {},
   "outputs": [],
   "source": []
  }
 ],
 "metadata": {
  "kernelspec": {
   "display_name": "tf",
   "language": "python",
   "name": "tf"
  },
  "language_info": {
   "codemirror_mode": {
    "name": "ipython",
    "version": 3
   },
   "file_extension": ".py",
   "mimetype": "text/x-python",
   "name": "python",
   "nbconvert_exporter": "python",
   "pygments_lexer": "ipython3",
   "version": "3.9.5"
  }
 },
 "nbformat": 4,
 "nbformat_minor": 5
}
